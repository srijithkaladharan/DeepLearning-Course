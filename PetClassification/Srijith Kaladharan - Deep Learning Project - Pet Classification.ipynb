{
 "cells": [
  {
   "cell_type": "markdown",
   "metadata": {},
   "source": [
    "## IMPORT LIBRARIES"
   ]
  },
  {
   "cell_type": "code",
   "execution_count": 1,
   "metadata": {},
   "outputs": [
    {
     "name": "stderr",
     "output_type": "stream",
     "text": [
      "Using TensorFlow backend.\n"
     ]
    }
   ],
   "source": [
    "from keras.models import Sequential\n",
    "from keras.layers import Conv2D\n",
    "from keras.layers import MaxPooling2D\n",
    "from keras.layers import GlobalAveragePooling2D\n",
    "from keras.layers import Dense"
   ]
  },
  {
   "cell_type": "markdown",
   "metadata": {},
   "source": [
    "## BUILD THE MODEL"
   ]
  },
  {
   "cell_type": "code",
   "execution_count": 2,
   "metadata": {},
   "outputs": [],
   "source": [
    "classifier = Sequential()\n",
    "\n",
    "classifier.add(Conv2D(filters=32, kernel_size=(3,3), input_shape=(64, 64, 3), activation='relu'))\n",
    "classifier.add(Conv2D(filters=32, kernel_size=(3,3), activation='relu'))\n",
    "\n",
    "classifier.add(MaxPooling2D(pool_size=(2,2)))\n",
    "\n",
    "classifier.add(Conv2D(filters=32, kernel_size=(3,3), activation='relu'))\n",
    "classifier.add(Conv2D(filters=32, kernel_size=(3,3), activation='relu'))\n",
    "\n",
    "classifier.add(MaxPooling2D(pool_size=(2,2)))\n",
    "\n",
    "classifier.add(Conv2D(filters=32, kernel_size=(3,3), activation='relu'))\n",
    "classifier.add(Conv2D(filters=32, kernel_size=(3,3), activation='relu'))\n",
    "\n",
    "classifier.add(MaxPooling2D(pool_size=(2,2)))\n",
    "\n",
    "classifier.add(GlobalAveragePooling2D())\n",
    "\n",
    "classifier.add(Dense(units=2, activation='softmax'))\n",
    "\n",
    "classifier.compile(optimizer='adam', loss='categorical_crossentropy', metrics=['accuracy'])"
   ]
  },
  {
   "cell_type": "markdown",
   "metadata": {},
   "source": [
    "## INITIALIZE IMAGE DATA GENERATOR"
   ]
  },
  {
   "cell_type": "code",
   "execution_count": 3,
   "metadata": {},
   "outputs": [],
   "source": [
    "from keras.preprocessing.image import ImageDataGenerator\n",
    "\n",
    "train_datagen = ImageDataGenerator(\n",
    "        rescale=1./255,\n",
    "        shear_range=0.2,\n",
    "        zoom_range=0.2,\n",
    "        horizontal_flip=True)\n",
    "\n",
    "test_datagen = ImageDataGenerator(rescale=1./255)"
   ]
  },
  {
   "cell_type": "code",
   "execution_count": 8,
   "metadata": {},
   "outputs": [
    {
     "name": "stdout",
     "output_type": "stream",
     "text": [
      "Found 40 images belonging to 2 classes.\n",
      "Found 20 images belonging to 2 classes.\n"
     ]
    }
   ],
   "source": [
    "train_set = train_datagen.flow_from_directory(\n",
    "        './data/train',\n",
    "        target_size=(64, 64),\n",
    "        batch_size=10,\n",
    "        class_mode='categorical')\n",
    "\n",
    "test_set = test_datagen.flow_from_directory(\n",
    "        './data/test',\n",
    "        target_size=(64, 64),\n",
    "        batch_size=10,\n",
    "        class_mode='categorical')"
   ]
  },
  {
   "cell_type": "markdown",
   "metadata": {},
   "source": [
    "## FIT THE MODEL"
   ]
  },
  {
   "cell_type": "code",
   "execution_count": 6,
   "metadata": {},
   "outputs": [
    {
     "name": "stdout",
     "output_type": "stream",
     "text": [
      "Epoch 1/10\n",
      "40/40 [==============================] - 16s 397ms/step - loss: 0.1729 - accuracy: 0.9400 - val_loss: 1.1085 - val_accuracy: 0.5500\n",
      "Epoch 2/10\n",
      "40/40 [==============================] - 16s 398ms/step - loss: 0.5823 - accuracy: 0.7225 - val_loss: 0.7130 - val_accuracy: 0.7000\n",
      "Epoch 3/10\n",
      "40/40 [==============================] - 16s 401ms/step - loss: 0.4876 - accuracy: 0.7150 - val_loss: 0.6552 - val_accuracy: 0.6000\n",
      "Epoch 4/10\n",
      "40/40 [==============================] - 16s 405ms/step - loss: 0.3374 - accuracy: 0.8413 - val_loss: 0.8662 - val_accuracy: 0.6500\n",
      "Epoch 5/10\n",
      "40/40 [==============================] - 16s 401ms/step - loss: 0.2076 - accuracy: 0.9312 - val_loss: 1.0579 - val_accuracy: 0.6000\n",
      "Epoch 6/10\n",
      "40/40 [==============================] - 15s 382ms/step - loss: 0.1961 - accuracy: 0.9350 - val_loss: 1.1751 - val_accuracy: 0.6000\n",
      "Epoch 7/10\n",
      "40/40 [==============================] - 17s 416ms/step - loss: 0.1439 - accuracy: 0.9500 - val_loss: 1.1646 - val_accuracy: 0.6000\n",
      "Epoch 8/10\n",
      "40/40 [==============================] - 16s 402ms/step - loss: 0.1156 - accuracy: 0.9613 - val_loss: 2.1161 - val_accuracy: 0.7000\n",
      "Epoch 9/10\n",
      "40/40 [==============================] - 16s 401ms/step - loss: 0.0979 - accuracy: 0.9638 - val_loss: 1.2266 - val_accuracy: 0.7000\n",
      "Epoch 10/10\n",
      "40/40 [==============================] - 16s 405ms/step - loss: 0.0951 - accuracy: 0.9762 - val_loss: 2.8110 - val_accuracy: 0.7000\n"
     ]
    },
    {
     "data": {
      "text/plain": [
       "<keras.callbacks.callbacks.History at 0x26972077d48>"
      ]
     },
     "execution_count": 6,
     "metadata": {},
     "output_type": "execute_result"
    }
   ],
   "source": [
    "classifier.fit_generator(\n",
    "        train_set,\n",
    "        steps_per_epoch=40,\n",
    "        epochs=10,\n",
    "        validation_data=test_set,\n",
    "        validation_steps=20)"
   ]
  }
 ],
 "metadata": {
  "kernelspec": {
   "display_name": "Python 3",
   "language": "python",
   "name": "python3"
  },
  "language_info": {
   "codemirror_mode": {
    "name": "ipython",
    "version": 3
   },
   "file_extension": ".py",
   "mimetype": "text/x-python",
   "name": "python",
   "nbconvert_exporter": "python",
   "pygments_lexer": "ipython3",
   "version": "3.7.4"
  }
 },
 "nbformat": 4,
 "nbformat_minor": 2
}
