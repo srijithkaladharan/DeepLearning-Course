{
 "cells": [
  {
   "cell_type": "code",
   "execution_count": 6,
   "metadata": {},
   "outputs": [],
   "source": [
    "from __future__ import print_function\n",
    "\n",
    "import tensorflow as tf\n",
    "from keras.datasets import mnist\n",
    "import keras\n",
    "from tensorflow.keras.models import Sequential\n",
    "from tensorflow.keras.layers import Dense, Dropout, Flatten\n",
    "from tensorflow.keras.optimizers import RMSprop"
   ]
  },
  {
   "cell_type": "code",
   "execution_count": 7,
   "metadata": {},
   "outputs": [],
   "source": [
    "batch_size = 128\n",
    "num_classes = 10\n",
    "epochs = 20"
   ]
  },
  {
   "cell_type": "code",
   "execution_count": 25,
   "metadata": {},
   "outputs": [],
   "source": [
    "(x_train, y_train),(x_test,y_test) = mnist.load_data()\n",
    "\n",
    "x_train = x_train.reshape(60000, 784)\n",
    "x_test = x_test.reshape(10000, 784)\n",
    "\n",
    "x_train = x_train.astype('float32')\n",
    "x_test = x_test.astype('float32')\n",
    "\n",
    "x_train /= 255\n",
    "x_test /= 255"
   ]
  },
  {
   "cell_type": "code",
   "execution_count": 26,
   "metadata": {},
   "outputs": [
    {
     "name": "stdout",
     "output_type": "stream",
     "text": [
      "60000 train samples\n",
      "10000 test samples\n"
     ]
    }
   ],
   "source": [
    "print(x_train.shape[0], 'train samples')\n",
    "print(x_test.shape[0], 'test samples')"
   ]
  },
  {
   "cell_type": "code",
   "execution_count": 30,
   "metadata": {},
   "outputs": [],
   "source": [
    "y_train = keras.utils.to_categorical(y_train,num_classes)\n",
    "\n",
    "y_test = keras.utils.to_categorical(y_test,num_classes)"
   ]
  },
  {
   "cell_type": "code",
   "execution_count": 31,
   "metadata": {},
   "outputs": [
    {
     "data": {
      "text/plain": [
       "array([0., 0., 0., 0., 0., 1., 0., 0., 0., 0.], dtype=float32)"
      ]
     },
     "execution_count": 31,
     "metadata": {},
     "output_type": "execute_result"
    }
   ],
   "source": [
    "y_train[0]"
   ]
  },
  {
   "cell_type": "code",
   "execution_count": 32,
   "metadata": {},
   "outputs": [
    {
     "data": {
      "text/plain": [
       "numpy.ndarray"
      ]
     },
     "execution_count": 32,
     "metadata": {},
     "output_type": "execute_result"
    }
   ],
   "source": [
    "type(y_train)"
   ]
  },
  {
   "cell_type": "markdown",
   "metadata": {},
   "source": [
    "## BUILD THE MODEL"
   ]
  },
  {
   "cell_type": "code",
   "execution_count": 14,
   "metadata": {},
   "outputs": [],
   "source": [
    "model = Sequential()\n",
    "\n",
    "# will create an empty graphical space to create out input, output and hidden layers"
   ]
  },
  {
   "cell_type": "code",
   "execution_count": 16,
   "metadata": {},
   "outputs": [
    {
     "name": "stdout",
     "output_type": "stream",
     "text": [
      "Model: \"sequential\"\n",
      "_________________________________________________________________\n",
      "Layer (type)                 Output Shape              Param #   \n",
      "=================================================================\n",
      "dense (Dense)                (None, 512)               401920    \n",
      "_________________________________________________________________\n",
      "dropout (Dropout)            (None, 512)               0         \n",
      "_________________________________________________________________\n",
      "dense_1 (Dense)              (None, 512)               262656    \n",
      "_________________________________________________________________\n",
      "dropout_1 (Dropout)          (None, 512)               0         \n",
      "_________________________________________________________________\n",
      "dense_2 (Dense)              (None, 10)                5130      \n",
      "=================================================================\n",
      "Total params: 669,706\n",
      "Trainable params: 669,706\n",
      "Non-trainable params: 0\n",
      "_________________________________________________________________\n"
     ]
    }
   ],
   "source": [
    "model.add(Dense(512, activation='relu',input_shape=(784,)))  #first hidden layer\n",
    "# no.of neurons = 512 \n",
    "#first hidden layer is the only HL that directly interacts with the IL. input_shape=(784,) defines the no.of inputs to each node in HL1\n",
    "\n",
    "\n",
    "model.add(Dropout(0.2))  #dropout layer or regularization\n",
    "#with each neuron -> assign probability as 0.2\n",
    "\n",
    "model.add(Dense(512, activation='relu'))  #second hidden layer\n",
    "#by default the input_size is 512\n",
    "\n",
    "model.add(Dropout(0.2))\n",
    "\n",
    "model.add(Dense(num_classes, activation='softmax'))  #output layer\n",
    "\n",
    "model.summary()\n"
   ]
  },
  {
   "cell_type": "markdown",
   "metadata": {},
   "source": [
    "Param # calculation\n",
    "\n",
    "in HL1:\n",
    "    \n",
    "    param # = no of neurons in IL * no of neurons in HL1 + no of neurons in HL1\n",
    "\n",
    "    748 * 512 + 512 = 401920    \n",
    "    \n",
    "    \n",
    "in OL:\n",
    "\n",
    "    512 * 10 + 10 = 5130\n"
   ]
  },
  {
   "cell_type": "markdown",
   "metadata": {},
   "source": [
    "## COMPILE THE MODEL"
   ]
  },
  {
   "cell_type": "code",
   "execution_count": 17,
   "metadata": {},
   "outputs": [],
   "source": [
    "model.compile(loss='categorical_crossentropy',\n",
    "             optimizer=RMSprop(),\n",
    "             metrics=['accuracy'])"
   ]
  },
  {
   "cell_type": "code",
   "execution_count": 18,
   "metadata": {},
   "outputs": [],
   "source": [
    "# RMSprop is a varient of gradient descent"
   ]
  },
  {
   "cell_type": "markdown",
   "metadata": {},
   "source": [
    "## FIT THE MODEL"
   ]
  },
  {
   "cell_type": "code",
   "execution_count": 33,
   "metadata": {},
   "outputs": [
    {
     "name": "stdout",
     "output_type": "stream",
     "text": [
      "Train on 60000 samples, validate on 10000 samples\n",
      "Epoch 1/20\n",
      "60000/60000 [==============================] - 6s 94us/sample - loss: 0.2438 - accuracy: 0.9249 - val_loss: 0.1301 - val_accuracy: 0.9578\n",
      "Epoch 2/20\n",
      "60000/60000 [==============================] - 4s 63us/sample - loss: 0.1024 - accuracy: 0.9691 - val_loss: 0.0984 - val_accuracy: 0.9685\n",
      "Epoch 3/20\n",
      "60000/60000 [==============================] - 4s 63us/sample - loss: 0.0758 - accuracy: 0.9765 - val_loss: 0.0758 - val_accuracy: 0.9777\n",
      "Epoch 4/20\n",
      "60000/60000 [==============================] - 4s 65us/sample - loss: 0.0625 - accuracy: 0.9811 - val_loss: 0.0780 - val_accuracy: 0.9788\n",
      "Epoch 5/20\n",
      "60000/60000 [==============================] - 4s 66us/sample - loss: 0.0512 - accuracy: 0.9847 - val_loss: 0.0757 - val_accuracy: 0.9794\n",
      "Epoch 6/20\n",
      "60000/60000 [==============================] - 4s 67us/sample - loss: 0.0444 - accuracy: 0.9864 - val_loss: 0.0879 - val_accuracy: 0.9805\n",
      "Epoch 7/20\n",
      "60000/60000 [==============================] - 4s 65us/sample - loss: 0.0390 - accuracy: 0.9884 - val_loss: 0.0992 - val_accuracy: 0.9778\n",
      "Epoch 8/20\n",
      "60000/60000 [==============================] - 4s 65us/sample - loss: 0.0339 - accuracy: 0.9895 - val_loss: 0.0835 - val_accuracy: 0.9822\n",
      "Epoch 9/20\n",
      "60000/60000 [==============================] - 4s 65us/sample - loss: 0.0292 - accuracy: 0.9910 - val_loss: 0.0893 - val_accuracy: 0.9820\n",
      "Epoch 10/20\n",
      "60000/60000 [==============================] - 4s 68us/sample - loss: 0.0302 - accuracy: 0.9916 - val_loss: 0.0916 - val_accuracy: 0.9830\n",
      "Epoch 11/20\n",
      "60000/60000 [==============================] - 4s 68us/sample - loss: 0.0285 - accuracy: 0.9918 - val_loss: 0.0939 - val_accuracy: 0.9818\n",
      "Epoch 12/20\n",
      "60000/60000 [==============================] - 4s 68us/sample - loss: 0.0250 - accuracy: 0.9932 - val_loss: 0.1027 - val_accuracy: 0.9804\n",
      "Epoch 13/20\n",
      "60000/60000 [==============================] - 4s 68us/sample - loss: 0.0236 - accuracy: 0.9935 - val_loss: 0.1109 - val_accuracy: 0.9817\n",
      "Epoch 14/20\n",
      "60000/60000 [==============================] - 4s 68us/sample - loss: 0.0216 - accuracy: 0.9938 - val_loss: 0.0990 - val_accuracy: 0.9826\n",
      "Epoch 15/20\n",
      "60000/60000 [==============================] - 4s 69us/sample - loss: 0.0211 - accuracy: 0.9942 - val_loss: 0.1152 - val_accuracy: 0.9832\n",
      "Epoch 16/20\n",
      "60000/60000 [==============================] - 4s 68us/sample - loss: 0.0208 - accuracy: 0.9945 - val_loss: 0.1199 - val_accuracy: 0.9822\n",
      "Epoch 17/20\n",
      "60000/60000 [==============================] - 4s 68us/sample - loss: 0.0187 - accuracy: 0.9951 - val_loss: 0.1072 - val_accuracy: 0.9848\n",
      "Epoch 18/20\n",
      "60000/60000 [==============================] - 4s 68us/sample - loss: 0.0187 - accuracy: 0.9949 - val_loss: 0.1147 - val_accuracy: 0.9833\n",
      "Epoch 19/20\n",
      "60000/60000 [==============================] - 4s 68us/sample - loss: 0.0193 - accuracy: 0.9951 - val_loss: 0.1281 - val_accuracy: 0.9823\n",
      "Epoch 20/20\n",
      "60000/60000 [==============================] - 4s 68us/sample - loss: 0.0174 - accuracy: 0.9952 - val_loss: 0.1217 - val_accuracy: 0.9838\n"
     ]
    }
   ],
   "source": [
    "history = model.fit(x_train, y_train,\n",
    "                   batch_size=batch_size,\n",
    "                   epochs=epochs,\n",
    "                   verbose=1,\n",
    "                   validation_data=(x_test, y_test))\n",
    "\n",
    "score = model.evaluate(x_test,y_test,verbose=0)"
   ]
  },
  {
   "cell_type": "code",
   "execution_count": 34,
   "metadata": {},
   "outputs": [
    {
     "name": "stdout",
     "output_type": "stream",
     "text": [
      "Test Loss:  0.12168892770384618\n",
      "Test Score:  0.9838\n"
     ]
    }
   ],
   "source": [
    "print('Test Loss: ', score[0])\n",
    "print('Test Score: ', score[1])"
   ]
  },
  {
   "cell_type": "code",
   "execution_count": null,
   "metadata": {},
   "outputs": [],
   "source": []
  }
 ],
 "metadata": {
  "kernelspec": {
   "display_name": "Python 3",
   "language": "python",
   "name": "python3"
  },
  "language_info": {
   "codemirror_mode": {
    "name": "ipython",
    "version": 3
   },
   "file_extension": ".py",
   "mimetype": "text/x-python",
   "name": "python",
   "nbconvert_exporter": "python",
   "pygments_lexer": "ipython3",
   "version": "3.7.4"
  }
 },
 "nbformat": 4,
 "nbformat_minor": 2
}
