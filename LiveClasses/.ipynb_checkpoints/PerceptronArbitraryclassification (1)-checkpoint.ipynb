{
 "cells": [
  {
   "cell_type": "code",
   "execution_count": 1,
   "metadata": {},
   "outputs": [],
   "source": [
    "\"\"\"\n",
    "Created on Wed May  9 06:59:15 2018\n",
    "\n",
    "@author: Shivendra\n",
    "This is pereceptron illustration code for training\n",
    "Solves an arbutrary classification problem\n",
    "\"\"\"\n",
    "\n",
    "import numpy as np\n",
    "import matplotlib.pyplot as plt\n",
    "%matplotlib inline\n",
    "\n",
    "#The actual input data is first two columns. \n",
    "#The third one is bias added for the perceptron model\n",
    "inputs = np.array([\n",
    "    [-3,4,-1],\n",
    "    [2,1,-1],\n",
    "    [4, -1, -1],\n",
    "    [2, 5, -1],\n",
    "    [7, 4, -1],\n",
    "\n",
    "])\n",
    "#This is the actual output expected from percepron for above dataset\n",
    "#This perceptron solves a classification problem in two dimension\n",
    "y = np.array([-1,-1,-1,1,1])\n",
    "#final weights : 2, 2 , 10"
   ]
  },
  {
   "cell_type": "code",
   "execution_count": 2,
   "metadata": {},
   "outputs": [
    {
     "data": {
      "text/plain": [
       "[<matplotlib.lines.Line2D at 0x7f02062b7e80>]"
      ]
     },
     "execution_count": 2,
     "metadata": {},
     "output_type": "execute_result"
    },
    {
     "data": {
      "image/png": "[encoded data removed]",
      "text/plain": [
       "<Figure size 432x288 with 1 Axes>"
      ]
     },
     "metadata": {
      "needs_background": "light"
     },
     "output_type": "display_data"
    }
   ],
   "source": [
    "#Lets visualize the dataset with expected outcome\n",
    "for d, sample in enumerate(inputs):\n",
    "    # Plotting the negative outcomes\n",
    "    if d < 3:\n",
    "        plt.scatter(sample[0], sample[1], s=120, marker='_', linewidths=2)\n",
    "    # Here we Plot the positive samples\n",
    "    else:\n",
    "        plt.scatter(sample[0], sample[1], s=120, marker='+', linewidths=2)\n",
    "\n",
    "# Print a possible hyperplane, that is seperating the two classes.\n",
    "plt.plot([-2,6],[7,1])"
   ]
  },
  {
   "cell_type": "code",
   "execution_count": 3,
   "metadata": {},
   "outputs": [
    {
     "name": "stdout",
     "output_type": "stream",
     "text": [
      "Before weight change: \n",
      "[-3  4 -1] [0. 0. 0.] -1\n",
      "My SUm product function * target class value is....\n",
      "-0.0\n",
      "Negative product for: ..\n",
      "[-3  4 -1] [0. 0. 0.] -1\n",
      "Changed weight: ..\n",
      "[-3  4 -1] [ 3. -4.  1.]\n"
     ]
    },
    {
     "name": "stdin",
     "output_type": "stream",
     "text": [
      "enter any key to continue \n"
     ]
    },
    {
     "name": "stdout",
     "output_type": "stream",
     "text": [
      "Before weight change: \n",
      "[ 2  1 -1] [ 3. -4.  1.] -1\n",
      "My SUm product function * target class value is....\n",
      "-1.0\n",
      "Negative product for: ..\n",
      "[ 2  1 -1] [ 3. -4.  1.] -1\n",
      "Changed weight: ..\n",
      "[ 2  1 -1] [ 1. -5.  2.]\n"
     ]
    },
    {
     "name": "stdin",
     "output_type": "stream",
     "text": [
      "enter any key to continue \n"
     ]
    },
    {
     "name": "stdout",
     "output_type": "stream",
     "text": [
      "Before weight change: \n",
      "[ 4 -1 -1] [ 1. -5.  2.] -1\n",
      "My SUm product function * target class value is....\n",
      "-7.0\n",
      "Negative product for: ..\n",
      "[ 4 -1 -1] [ 1. -5.  2.] -1\n",
      "Changed weight: ..\n",
      "[ 4 -1 -1] [-3. -4.  3.]\n"
     ]
    },
    {
     "name": "stdin",
     "output_type": "stream",
     "text": [
      "enter any key to continue \n"
     ]
    },
    {
     "name": "stdout",
     "output_type": "stream",
     "text": [
      "Before weight change: \n",
      "[ 2  5 -1] [-3. -4.  3.] 1\n",
      "My SUm product function * target class value is....\n",
      "-29.0\n",
      "Negative product for: ..\n",
      "[ 2  5 -1] [-3. -4.  3.] 1\n",
      "Changed weight: ..\n",
      "[ 2  5 -1] [-1.  1.  2.]\n"
     ]
    },
    {
     "name": "stdin",
     "output_type": "stream",
     "text": [
      "enter any key to continue \n"
     ]
    },
    {
     "name": "stdout",
     "output_type": "stream",
     "text": [
      "Before weight change: \n",
      "[ 7  4 -1] [-1.  1.  2.] 1\n",
      "My SUm product function * target class value is....\n",
      "-5.0\n",
      "Negative product for: ..\n",
      "[ 7  4 -1] [-1.  1.  2.] 1\n",
      "Changed weight: ..\n",
      "[ 7  4 -1] [6. 5. 1.]\n"
     ]
    },
    {
     "name": "stdin",
     "output_type": "stream",
     "text": [
      "enter any key to continue \n"
     ]
    },
    {
     "name": "stdout",
     "output_type": "stream",
     "text": [
      "Before weight change: \n",
      "[-3  4 -1] [6. 5. 1.] -1\n",
      "My SUm product function * target class value is....\n",
      "-1.0\n",
      "Negative product for: ..\n",
      "[-3  4 -1] [6. 5. 1.] -1\n",
      "Changed weight: ..\n",
      "[-3  4 -1] [9. 1. 2.]\n"
     ]
    },
    {
     "name": "stdin",
     "output_type": "stream",
     "text": [
      "enter any key to continue \n"
     ]
    },
    {
     "name": "stdout",
     "output_type": "stream",
     "text": [
      "Before weight change: \n",
      "[ 2  1 -1] [9. 1. 2.] -1\n",
      "My SUm product function * target class value is....\n",
      "-17.0\n",
      "Negative product for: ..\n",
      "[ 2  1 -1] [9. 1. 2.] -1\n",
      "Changed weight: ..\n",
      "[ 2  1 -1] [7. 0. 3.]\n"
     ]
    },
    {
     "name": "stdin",
     "output_type": "stream",
     "text": [
      "enter any key to continue \n"
     ]
    },
    {
     "name": "stdout",
     "output_type": "stream",
     "text": [
      "Before weight change: \n",
      "[ 4 -1 -1] [7. 0. 3.] -1\n",
      "My SUm product function * target class value is....\n",
      "-25.0\n",
      "Negative product for: ..\n",
      "[ 4 -1 -1] [7. 0. 3.] -1\n",
      "Changed weight: ..\n",
      "[ 4 -1 -1] [3. 1. 4.]\n"
     ]
    },
    {
     "name": "stdin",
     "output_type": "stream",
     "text": [
      "enter any key to continue \n"
     ]
    },
    {
     "name": "stdout",
     "output_type": "stream",
     "text": [
      "Before weight change: \n",
      "[ 2  5 -1] [3. 1. 4.] 1\n",
      "My SUm product function * target class value is....\n",
      "7.0\n",
      "Before weight change: \n",
      "[ 7  4 -1] [3. 1. 4.] 1\n",
      "My SUm product function * target class value is....\n",
      "21.0\n",
      "Before weight change: \n",
      "[-3  4 -1] [3. 1. 4.] -1\n",
      "My SUm product function * target class value is....\n",
      "9.0\n",
      "Before weight change: \n",
      "[ 2  1 -1] [3. 1. 4.] -1\n",
      "My SUm product function * target class value is....\n",
      "-3.0\n",
      "Negative product for: ..\n",
      "[ 2  1 -1] [3. 1. 4.] -1\n",
      "Changed weight: ..\n",
      "[ 2  1 -1] [1. 0. 5.]\n"
     ]
    },
    {
     "name": "stdin",
     "output_type": "stream",
     "text": [
      "enter any key to continue \n"
     ]
    },
    {
     "name": "stdout",
     "output_type": "stream",
     "text": [
      "Before weight change: \n",
      "[ 4 -1 -1] [1. 0. 5.] -1\n",
      "My SUm product function * target class value is....\n",
      "1.0\n",
      "Before weight change: \n",
      "[ 2  5 -1] [1. 0. 5.] 1\n",
      "My SUm product function * target class value is....\n",
      "-3.0\n",
      "Negative product for: ..\n",
      "[ 2  5 -1] [1. 0. 5.] 1\n",
      "Changed weight: ..\n",
      "[ 2  5 -1] [3. 5. 4.]\n"
     ]
    },
    {
     "name": "stdin",
     "output_type": "stream",
     "text": [
      "enter any key to continue \n"
     ]
    },
    {
     "name": "stdout",
     "output_type": "stream",
     "text": [
      "Before weight change: \n",
      "[ 7  4 -1] [3. 5. 4.] 1\n",
      "My SUm product function * target class value is....\n",
      "37.0\n",
      "Before weight change: \n",
      "[-3  4 -1] [3. 5. 4.] -1\n",
      "My SUm product function * target class value is....\n",
      "-7.0\n",
      "Negative product for: ..\n",
      "[-3  4 -1] [3. 5. 4.] -1\n",
      "Changed weight: ..\n",
      "[-3  4 -1] [6. 1. 5.]\n"
     ]
    },
    {
     "name": "stdin",
     "output_type": "stream",
     "text": [
      "enter any key to continue \n"
     ]
    },
    {
     "name": "stdout",
     "output_type": "stream",
     "text": [
      "Before weight change: \n",
      "[ 2  1 -1] [6. 1. 5.] -1\n",
      "My SUm product function * target class value is....\n",
      "-8.0\n",
      "Negative product for: ..\n",
      "[ 2  1 -1] [6. 1. 5.] -1\n",
      "Changed weight: ..\n",
      "[ 2  1 -1] [4. 0. 6.]\n"
     ]
    },
    {
     "name": "stdin",
     "output_type": "stream",
     "text": [
      "enter any key to continue \n"
     ]
    },
    {
     "name": "stdout",
     "output_type": "stream",
     "text": [
      "Before weight change: \n",
      "[ 4 -1 -1] [4. 0. 6.] -1\n",
      "My SUm product function * target class value is....\n",
      "-10.0\n",
      "Negative product for: ..\n",
      "[ 4 -1 -1] [4. 0. 6.] -1\n",
      "Changed weight: ..\n",
      "[ 4 -1 -1] [0. 1. 7.]\n"
     ]
    },
    {
     "name": "stdin",
     "output_type": "stream",
     "text": [
      "enter any key to continue \n"
     ]
    },
    {
     "name": "stdout",
     "output_type": "stream",
     "text": [
      "Before weight change: \n",
      "[ 2  5 -1] [0. 1. 7.] 1\n",
      "My SUm product function * target class value is....\n",
      "-2.0\n",
      "Negative product for: ..\n",
      "[ 2  5 -1] [0. 1. 7.] 1\n",
      "Changed weight: ..\n",
      "[ 2  5 -1] [2. 6. 6.]\n"
     ]
    },
    {
     "name": "stdin",
     "output_type": "stream",
     "text": [
      "enter any key to continue \n"
     ]
    },
    {
     "name": "stdout",
     "output_type": "stream",
     "text": [
      "Before weight change: \n",
      "[ 7  4 -1] [2. 6. 6.] 1\n",
      "My SUm product function * target class value is....\n",
      "32.0\n",
      "Before weight change: \n",
      "[-3  4 -1] [2. 6. 6.] -1\n",
      "My SUm product function * target class value is....\n",
      "-12.0\n",
      "Negative product for: ..\n",
      "[-3  4 -1] [2. 6. 6.] -1\n",
      "Changed weight: ..\n",
      "[-3  4 -1] [5. 2. 7.]\n"
     ]
    },
    {
     "name": "stdin",
     "output_type": "stream",
     "text": [
      "enter any key to continue \n"
     ]
    },
    {
     "name": "stdout",
     "output_type": "stream",
     "text": [
      "Before weight change: \n",
      "[ 2  1 -1] [5. 2. 7.] -1\n",
      "My SUm product function * target class value is....\n",
      "-5.0\n",
      "Negative product for: ..\n",
      "[ 2  1 -1] [5. 2. 7.] -1\n",
      "Changed weight: ..\n",
      "[ 2  1 -1] [3. 1. 8.]\n"
     ]
    },
    {
     "name": "stdin",
     "output_type": "stream",
     "text": [
      "enter any key to continue \n"
     ]
    },
    {
     "name": "stdout",
     "output_type": "stream",
     "text": [
      "Before weight change: \n",
      "[ 4 -1 -1] [3. 1. 8.] -1\n",
      "My SUm product function * target class value is....\n",
      "-3.0\n",
      "Negative product for: ..\n",
      "[ 4 -1 -1] [3. 1. 8.] -1\n",
      "Changed weight: ..\n",
      "[ 4 -1 -1] [-1.  2.  9.]\n"
     ]
    },
    {
     "name": "stdin",
     "output_type": "stream",
     "text": [
      "enter any key to continue \n"
     ]
    },
    {
     "name": "stdout",
     "output_type": "stream",
     "text": [
      "Before weight change: \n",
      "[ 2  5 -1] [-1.  2.  9.] 1\n",
      "My SUm product function * target class value is....\n",
      "-1.0\n",
      "Negative product for: ..\n",
      "[ 2  5 -1] [-1.  2.  9.] 1\n",
      "Changed weight: ..\n",
      "[ 2  5 -1] [1. 7. 8.]\n"
     ]
    },
    {
     "name": "stdin",
     "output_type": "stream",
     "text": [
      "enter any key to continue \n"
     ]
    },
    {
     "name": "stdout",
     "output_type": "stream",
     "text": [
      "Before weight change: \n",
      "[ 7  4 -1] [1. 7. 8.] 1\n",
      "My SUm product function * target class value is....\n",
      "27.0\n",
      "Before weight change: \n",
      "[-3  4 -1] [1. 7. 8.] -1\n",
      "My SUm product function * target class value is....\n",
      "-17.0\n",
      "Negative product for: ..\n",
      "[-3  4 -1] [1. 7. 8.] -1\n",
      "Changed weight: ..\n",
      "[-3  4 -1] [4. 3. 9.]\n"
     ]
    },
    {
     "name": "stdin",
     "output_type": "stream",
     "text": [
      "enter any key to continue \n"
     ]
    },
    {
     "name": "stdout",
     "output_type": "stream",
     "text": [
      "Before weight change: \n",
      "[ 2  1 -1] [4. 3. 9.] -1\n",
      "My SUm product function * target class value is....\n",
      "-2.0\n",
      "Negative product for: ..\n",
      "[ 2  1 -1] [4. 3. 9.] -1\n",
      "Changed weight: ..\n",
      "[ 2  1 -1] [ 2.  2. 10.]\n"
     ]
    },
    {
     "name": "stdin",
     "output_type": "stream",
     "text": [
      "enter any key to continue \n"
     ]
    },
    {
     "name": "stdout",
     "output_type": "stream",
     "text": [
      "Before weight change: \n",
      "[ 4 -1 -1] [ 2.  2. 10.] -1\n",
      "My SUm product function * target class value is....\n",
      "4.0\n",
      "Before weight change: \n",
      "[ 2  5 -1] [ 2.  2. 10.] 1\n",
      "My SUm product function * target class value is....\n",
      "4.0\n",
      "Before weight change: \n",
      "[ 7  4 -1] [ 2.  2. 10.] 1\n",
      "My SUm product function * target class value is....\n",
      "12.0\n",
      "Before weight change: \n",
      "[-3  4 -1] [ 2.  2. 10.] -1\n",
      "My SUm product function * target class value is....\n",
      "8.0\n",
      "Before weight change: \n",
      "[ 2  1 -1] [ 2.  2. 10.] -1\n",
      "My SUm product function * target class value is....\n",
      "4.0\n",
      "Before weight change: \n",
      "[ 4 -1 -1] [ 2.  2. 10.] -1\n",
      "My SUm product function * target class value is....\n",
      "4.0\n",
      "Before weight change: \n",
      "[ 2  5 -1] [ 2.  2. 10.] 1\n",
      "My SUm product function * target class value is....\n",
      "4.0\n",
      "Before weight change: \n",
      "[ 7  4 -1] [ 2.  2. 10.] 1\n",
      "My SUm product function * target class value is....\n",
      "12.0\n",
      "Before weight change: \n",
      "[-3  4 -1] [ 2.  2. 10.] -1\n",
      "My SUm product function * target class value is....\n",
      "8.0\n",
      "Before weight change: \n",
      "[ 2  1 -1] [ 2.  2. 10.] -1\n",
      "My SUm product function * target class value is....\n",
      "4.0\n",
      "Before weight change: \n",
      "[ 4 -1 -1] [ 2.  2. 10.] -1\n",
      "My SUm product function * target class value is....\n",
      "4.0\n",
      "Before weight change: \n",
      "[ 2  5 -1] [ 2.  2. 10.] 1\n",
      "My SUm product function * target class value is....\n",
      "4.0\n",
      "Before weight change: \n",
      "[ 7  4 -1] [ 2.  2. 10.] 1\n",
      "My SUm product function * target class value is....\n",
      "12.0\n",
      "Before weight change: \n",
      "[-3  4 -1] [ 2.  2. 10.] -1\n",
      "My SUm product function * target class value is....\n",
      "8.0\n",
      "Before weight change: \n",
      "[ 2  1 -1] [ 2.  2. 10.] -1\n",
      "My SUm product function * target class value is....\n",
      "4.0\n",
      "Before weight change: \n",
      "[ 4 -1 -1] [ 2.  2. 10.] -1\n",
      "My SUm product function * target class value is....\n",
      "4.0\n",
      "Before weight change: \n",
      "[ 2  5 -1] [ 2.  2. 10.] 1\n",
      "My SUm product function * target class value is....\n",
      "4.0\n",
      "Before weight change: \n",
      "[ 7  4 -1] [ 2.  2. 10.] 1\n",
      "My SUm product function * target class value is....\n",
      "12.0\n",
      "Before weight change: \n",
      "[-3  4 -1] [ 2.  2. 10.] -1\n",
      "My SUm product function * target class value is....\n",
      "8.0\n",
      "Before weight change: \n",
      "[ 2  1 -1] [ 2.  2. 10.] -1\n",
      "My SUm product function * target class value is....\n",
      "4.0\n",
      "Before weight change: \n",
      "[ 4 -1 -1] [ 2.  2. 10.] -1\n",
      "My SUm product function * target class value is....\n",
      "4.0\n",
      "Before weight change: \n",
      "[ 2  5 -1] [ 2.  2. 10.] 1\n",
      "My SUm product function * target class value is....\n",
      "4.0\n",
      "Before weight change: \n",
      "[ 7  4 -1] [ 2.  2. 10.] 1\n",
      "My SUm product function * target class value is....\n",
      "12.0\n",
      "Before weight change: \n",
      "[-3  4 -1] [ 2.  2. 10.] -1\n",
      "My SUm product function * target class value is....\n",
      "8.0\n",
      "Before weight change: \n",
      "[ 2  1 -1] [ 2.  2. 10.] -1\n",
      "My SUm product function * target class value is....\n",
      "4.0\n",
      "Before weight change: \n",
      "[ 4 -1 -1] [ 2.  2. 10.] -1\n",
      "My SUm product function * target class value is....\n",
      "4.0\n",
      "Before weight change: \n",
      "[ 2  5 -1] [ 2.  2. 10.] 1\n",
      "My SUm product function * target class value is....\n",
      "4.0\n",
      "Before weight change: \n",
      "[ 7  4 -1] [ 2.  2. 10.] 1\n",
      "My SUm product function * target class value is....\n",
      "12.0\n",
      "Before weight change: \n",
      "[-3  4 -1] [ 2.  2. 10.] -1\n",
      "My SUm product function * target class value is....\n",
      "8.0\n",
      "Before weight change: \n",
      "[ 2  1 -1] [ 2.  2. 10.] -1\n",
      "My SUm product function * target class value is....\n",
      "4.0\n",
      "Before weight change: \n",
      "[ 4 -1 -1] [ 2.  2. 10.] -1\n",
      "My SUm product function * target class value is....\n",
      "4.0\n",
      "Before weight change: \n",
      "[ 2  5 -1] [ 2.  2. 10.] 1\n",
      "My SUm product function * target class value is....\n",
      "4.0\n",
      "Before weight change: \n",
      "[ 7  4 -1] [ 2.  2. 10.] 1\n",
      "My SUm product function * target class value is....\n",
      "12.0\n",
      "Before weight change: \n",
      "[-3  4 -1] [ 2.  2. 10.] -1\n",
      "My SUm product function * target class value is....\n",
      "8.0\n",
      "Before weight change: \n",
      "[ 2  1 -1] [ 2.  2. 10.] -1\n",
      "My SUm product function * target class value is....\n",
      "4.0\n",
      "Before weight change: \n",
      "[ 4 -1 -1] [ 2.  2. 10.] -1\n",
      "My SUm product function * target class value is....\n",
      "4.0\n",
      "Before weight change: \n",
      "[ 2  5 -1] [ 2.  2. 10.] 1\n",
      "My SUm product function * target class value is....\n",
      "4.0\n",
      "Before weight change: \n",
      "[ 7  4 -1] [ 2.  2. 10.] 1\n",
      "My SUm product function * target class value is....\n",
      "12.0\n",
      "Before weight change: \n",
      "[-3  4 -1] [ 2.  2. 10.] -1\n",
      "My SUm product function * target class value is....\n",
      "8.0\n",
      "Before weight change: \n",
      "[ 2  1 -1] [ 2.  2. 10.] -1\n",
      "My SUm product function * target class value is....\n",
      "4.0\n",
      "Before weight change: \n",
      "[ 4 -1 -1] [ 2.  2. 10.] -1\n",
      "My SUm product function * target class value is....\n",
      "4.0\n",
      "Before weight change: \n",
      "[ 2  5 -1] [ 2.  2. 10.] 1\n",
      "My SUm product function * target class value is....\n",
      "4.0\n",
      "Before weight change: \n",
      "[ 7  4 -1] [ 2.  2. 10.] 1\n",
      "My SUm product function * target class value is....\n",
      "12.0\n",
      "Before weight change: \n",
      "[-3  4 -1] [ 2.  2. 10.] -1\n",
      "My SUm product function * target class value is....\n",
      "8.0\n",
      "Before weight change: \n",
      "[ 2  1 -1] [ 2.  2. 10.] -1\n",
      "My SUm product function * target class value is....\n",
      "4.0\n",
      "Before weight change: \n",
      "[ 4 -1 -1] [ 2.  2. 10.] -1\n",
      "My SUm product function * target class value is....\n",
      "4.0\n",
      "Before weight change: \n",
      "[ 2  5 -1] [ 2.  2. 10.] 1\n",
      "My SUm product function * target class value is....\n",
      "4.0\n",
      "Before weight change: \n",
      "[ 7  4 -1] [ 2.  2. 10.] 1\n",
      "My SUm product function * target class value is....\n",
      "12.0\n",
      "Before weight change: \n",
      "[-3  4 -1] [ 2.  2. 10.] -1\n",
      "My SUm product function * target class value is....\n",
      "8.0\n",
      "Before weight change: \n",
      "[ 2  1 -1] [ 2.  2. 10.] -1\n",
      "My SUm product function * target class value is....\n",
      "4.0\n",
      "Before weight change: \n",
      "[ 4 -1 -1] [ 2.  2. 10.] -1\n",
      "My SUm product function * target class value is....\n",
      "4.0\n",
      "Before weight change: \n",
      "[ 2  5 -1] [ 2.  2. 10.] 1\n",
      "My SUm product function * target class value is....\n",
      "4.0\n",
      "Before weight change: \n",
      "[ 7  4 -1] [ 2.  2. 10.] 1\n",
      "My SUm product function * target class value is....\n",
      "12.0\n",
      "Before weight change: \n",
      "[-3  4 -1] [ 2.  2. 10.] -1\n",
      "My SUm product function * target class value is....\n",
      "8.0\n",
      "Before weight change: \n",
      "[ 2  1 -1] [ 2.  2. 10.] -1\n",
      "My SUm product function * target class value is....\n",
      "4.0\n",
      "Before weight change: \n",
      "[ 4 -1 -1] [ 2.  2. 10.] -1\n",
      "My SUm product function * target class value is....\n",
      "4.0\n",
      "Before weight change: \n",
      "[ 2  5 -1] [ 2.  2. 10.] 1\n",
      "My SUm product function * target class value is....\n",
      "4.0\n",
      "Before weight change: \n",
      "[ 7  4 -1] [ 2.  2. 10.] 1\n",
      "My SUm product function * target class value is....\n",
      "12.0\n",
      "Before weight change: \n",
      "[-3  4 -1] [ 2.  2. 10.] -1\n",
      "My SUm product function * target class value is....\n",
      "8.0\n",
      "Before weight change: \n",
      "[ 2  1 -1] [ 2.  2. 10.] -1\n",
      "My SUm product function * target class value is....\n",
      "4.0\n",
      "Before weight change: \n",
      "[ 4 -1 -1] [ 2.  2. 10.] -1\n",
      "My SUm product function * target class value is....\n",
      "4.0\n",
      "Before weight change: \n",
      "[ 2  5 -1] [ 2.  2. 10.] 1\n",
      "My SUm product function * target class value is....\n",
      "4.0\n",
      "Before weight change: \n",
      "[ 7  4 -1] [ 2.  2. 10.] 1\n",
      "My SUm product function * target class value is....\n",
      "12.0\n",
      "Before weight change: \n",
      "[-3  4 -1] [ 2.  2. 10.] -1\n",
      "My SUm product function * target class value is....\n",
      "8.0\n",
      "Before weight change: \n",
      "[ 2  1 -1] [ 2.  2. 10.] -1\n",
      "My SUm product function * target class value is....\n",
      "4.0\n",
      "Before weight change: \n",
      "[ 4 -1 -1] [ 2.  2. 10.] -1\n",
      "My SUm product function * target class value is....\n",
      "4.0\n",
      "Before weight change: \n",
      "[ 2  5 -1] [ 2.  2. 10.] 1\n",
      "My SUm product function * target class value is....\n",
      "4.0\n",
      "Before weight change: \n",
      "[ 7  4 -1] [ 2.  2. 10.] 1\n",
      "My SUm product function * target class value is....\n",
      "12.0\n",
      "Before weight change: \n",
      "[-3  4 -1] [ 2.  2. 10.] -1\n",
      "My SUm product function * target class value is....\n",
      "8.0\n",
      "Before weight change: \n",
      "[ 2  1 -1] [ 2.  2. 10.] -1\n",
      "My SUm product function * target class value is....\n",
      "4.0\n",
      "Before weight change: \n",
      "[ 4 -1 -1] [ 2.  2. 10.] -1\n",
      "My SUm product function * target class value is....\n",
      "4.0\n",
      "Before weight change: \n",
      "[ 2  5 -1] [ 2.  2. 10.] 1\n",
      "My SUm product function * target class value is....\n",
      "4.0\n",
      "Before weight change: \n",
      "[ 7  4 -1] [ 2.  2. 10.] 1\n",
      "My SUm product function * target class value is....\n",
      "12.0\n",
      "[ 2.  2. 10.]\n"
     ]
    }
   ],
   "source": [
    "#Stochastic Gradient descent function for the perceptron\n",
    "def perceptron_sgd_function(X, Y):\n",
    "    '''\n",
    "    This function trains perceptron and plots the total loss in each epoch.\n",
    "    \n",
    "    :param X: data samples\n",
    "    :param Y: data labels\n",
    "    :return: weight vector(weights) as a numpy array\n",
    "    '''\n",
    "    w = np.zeros(len(inputs[0]))\n",
    "    eta = 1\n",
    "    epochs = 20\n",
    "\n",
    "    for t in range(epochs):\n",
    "        for i, x in enumerate(X):\n",
    "            print(\"Before weight change: \")\n",
    "            print(inputs[i], w, Y[i])\n",
    "            print(\"My SUm product function * target class value is....\")\n",
    "            print((np.dot(X[i], w)*Y[i]))\n",
    "            if (np.dot(X[i], w)*Y[i]) <= 0:\n",
    "                #print(np.dot(X[i], w)*Y[i])\n",
    "                print(\"Negative product for: ..\")\n",
    "                print(X[i], w, Y[i])\n",
    "                w = w + eta*X[i]*Y[i]\n",
    "                print(\"Changed weight: ..\")\n",
    "                print(X[i], w)\n",
    "                input(\"enter any key to continue\")\n",
    "\n",
    "    return w\n",
    "\n",
    "w = perceptron_sgd_function(inputs,y)\n",
    "print(w)\n"
   ]
  },
  {
   "cell_type": "code",
   "execution_count": 4,
   "metadata": {},
   "outputs": [
    {
     "name": "stdout",
     "output_type": "stream",
     "text": [
      "[0.002 0.002 0.01 ]\n"
     ]
    },
    {
     "data": {
      "image/png": "[encoded data removed]",
      "text/plain": [
       "<Figure size 432x288 with 1 Axes>"
      ]
     },
     "metadata": {
      "needs_background": "light"
     },
     "output_type": "display_data"
    }
   ],
   "source": [
    "def perceptron_sgd_plot(X, Y):\n",
    "    '''\n",
    "    This function trains perceptron and plots the total loss in each epoch.\n",
    "    \n",
    "    :param X: data samples\n",
    "    :param Y: data labels\n",
    "    :return: weight vector(weights) as a numpy array\n",
    "    '''\n",
    "    w = np.zeros(len(X[0]))\n",
    "    eta = 0.001\n",
    "    n = 20\n",
    "    errors = []\n",
    "\n",
    "    for t in range(n):\n",
    "        total_error = 0\n",
    "        for i, x in enumerate(X):\n",
    "            if (np.dot(X[i], w)*Y[i]) <= 0:\n",
    "                total_error += (np.dot(X[i], w)*Y[i])\n",
    "                w = w + eta*X[i]*Y[i]\n",
    "        errors.append(total_error*-1)\n",
    "        \n",
    "    plt.plot(errors)\n",
    "    plt.xlabel('Epoch')\n",
    "    plt.ylabel('Total Loss')\n",
    "    \n",
    "    return w\n",
    "print(perceptron_sgd_plot(inputs,y))\n"
   ]
  },
  {
   "cell_type": "code",
   "execution_count": 5,
   "metadata": {},
   "outputs": [
    {
     "data": {
      "text/plain": [
       "<matplotlib.quiver.Quiver at 0x7f6780441278>"
      ]
     },
     "execution_count": 5,
     "metadata": {},
     "output_type": "execute_result"
    },
    {
     "data": {
      "image/png": "[encoded data removed]",
      "text/plain": [
       "<Figure size 432x288 with 1 Axes>"
      ]
     },
     "metadata": {
      "needs_background": "light"
     },
     "output_type": "display_data"
    }
   ],
   "source": [
    "for d, sample in enumerate(inputs):\n",
    "    # Plot the negative samples\n",
    "    if d < 3:\n",
    "        plt.scatter(sample[0], sample[1], s=120, marker='_', linewidths=2)\n",
    "    # Plot the positive samples\n",
    "    else:\n",
    "        plt.scatter(sample[0], sample[1], s=120, marker='+', linewidths=2)\n",
    "\n",
    "# Add our test samples\n",
    "\n",
    "plt.scatter(1,2, s=120, marker='_', linewidths=2, color='red')\n",
    "plt.scatter(6,3, s=120, marker='+', linewidths=2, color='blue')\n",
    "\n",
    "# Print the hyperplane calculated by perceptron_sgd()\n",
    "x2=[w[0],w[1],-w[1],w[0]]\n",
    "x3=[w[0],w[1],w[1],-w[0]]\n",
    "\n",
    "x2x3 =np.array([x2,x3])\n",
    "X,Y,U,V = zip(*x2x3)\n",
    "ax = plt.gca()\n",
    "ax.quiver(X,Y,U,V,scale=1, color='blue')"
   ]
  },
  {
   "cell_type": "code",
   "execution_count": null,
   "metadata": {},
   "outputs": [],
   "source": []
  }
 ],
 "metadata": {
  "kernelspec": {
   "display_name": "Python 3",
   "language": "python",
   "name": "python3"
  },
  "language_info": {
   "codemirror_mode": {
    "name": "ipython",
    "version": 3
   },
   "file_extension": ".py",
   "mimetype": "text/x-python",
   "name": "python",
   "nbconvert_exporter": "python",
   "pygments_lexer": "ipython3",
   "version": "3.7.4"
  }
 },
 "nbformat": 4,
 "nbformat_minor": 2
}
