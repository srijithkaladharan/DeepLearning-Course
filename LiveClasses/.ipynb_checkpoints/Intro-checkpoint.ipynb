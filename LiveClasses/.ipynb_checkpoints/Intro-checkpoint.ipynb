{
 "cells": [
  {
   "cell_type": "code",
   "execution_count": 1,
   "metadata": {},
   "outputs": [],
   "source": [
    "import numpy as np\n",
    "import matplotlib.pyplot as plt\n",
    "%matplotlib inline"
   ]
  },
  {
   "cell_type": "code",
   "execution_count": 2,
   "metadata": {},
   "outputs": [],
   "source": [
    "def sigmoid(z):\n",
    "    return (1/(1+np.exp(-z)))"
   ]
  },
  {
   "cell_type": "code",
   "execution_count": 3,
   "metadata": {},
   "outputs": [
    {
     "data": {
      "text/plain": [
       "0.5"
      ]
     },
     "execution_count": 3,
     "metadata": {},
     "output_type": "execute_result"
    }
   ],
   "source": [
    "sigmoid(0)"
   ]
  },
  {
   "cell_type": "code",
   "execution_count": 4,
   "metadata": {},
   "outputs": [
    {
     "data": {
      "text/plain": [
       "0.0066928509242848554"
      ]
     },
     "execution_count": 4,
     "metadata": {},
     "output_type": "execute_result"
    }
   ],
   "source": [
    "sigmoid(-5)"
   ]
  },
  {
   "cell_type": "code",
   "execution_count": 5,
   "metadata": {},
   "outputs": [],
   "source": [
    "xvalues = np.linspace(-15,15,500)"
   ]
  },
  {
   "cell_type": "code",
   "execution_count": 6,
   "metadata": {},
   "outputs": [
    {
     "data": {
      "text/plain": [
       "array([-15.        , -14.93987976, -14.87975952, -14.81963928,\n",
       "       -14.75951904, -14.6993988 , -14.63927856, -14.57915832,\n",
       "       -14.51903808, -14.45891784, -14.3987976 , -14.33867735,\n",
       "       -14.27855711, -14.21843687, -14.15831663, -14.09819639,\n",
       "       -14.03807615, -13.97795591, -13.91783567, -13.85771543,\n",
       "       -13.79759519, -13.73747495, -13.67735471, -13.61723447,\n",
       "       -13.55711423, -13.49699399, -13.43687375, -13.37675351,\n",
       "       -13.31663327, -13.25651303, -13.19639279, -13.13627255,\n",
       "       -13.0761523 , -13.01603206, -12.95591182, -12.89579158,\n",
       "       -12.83567134, -12.7755511 , -12.71543086, -12.65531062,\n",
       "       -12.59519038, -12.53507014, -12.4749499 , -12.41482966,\n",
       "       -12.35470942, -12.29458918, -12.23446894, -12.1743487 ,\n",
       "       -12.11422846, -12.05410822, -11.99398798, -11.93386774,\n",
       "       -11.87374749, -11.81362725, -11.75350701, -11.69338677,\n",
       "       -11.63326653, -11.57314629, -11.51302605, -11.45290581,\n",
       "       -11.39278557, -11.33266533, -11.27254509, -11.21242485,\n",
       "       -11.15230461, -11.09218437, -11.03206413, -10.97194389,\n",
       "       -10.91182365, -10.85170341, -10.79158317, -10.73146293,\n",
       "       -10.67134269, -10.61122244, -10.5511022 , -10.49098196,\n",
       "       -10.43086172, -10.37074148, -10.31062124, -10.250501  ,\n",
       "       -10.19038076, -10.13026052, -10.07014028, -10.01002004,\n",
       "        -9.9498998 ,  -9.88977956,  -9.82965932,  -9.76953908,\n",
       "        -9.70941884,  -9.6492986 ,  -9.58917836,  -9.52905812,\n",
       "        -9.46893788,  -9.40881764,  -9.34869739,  -9.28857715,\n",
       "        -9.22845691,  -9.16833667,  -9.10821643,  -9.04809619,\n",
       "        -8.98797595,  -8.92785571,  -8.86773547,  -8.80761523,\n",
       "        -8.74749499,  -8.68737475,  -8.62725451,  -8.56713427,\n",
       "        -8.50701403,  -8.44689379,  -8.38677355,  -8.32665331,\n",
       "        -8.26653307,  -8.20641283,  -8.14629259,  -8.08617234,\n",
       "        -8.0260521 ,  -7.96593186,  -7.90581162,  -7.84569138,\n",
       "        -7.78557114,  -7.7254509 ,  -7.66533066,  -7.60521042,\n",
       "        -7.54509018,  -7.48496994,  -7.4248497 ,  -7.36472946,\n",
       "        -7.30460922,  -7.24448898,  -7.18436874,  -7.1242485 ,\n",
       "        -7.06412826,  -7.00400802,  -6.94388778,  -6.88376754,\n",
       "        -6.82364729,  -6.76352705,  -6.70340681,  -6.64328657,\n",
       "        -6.58316633,  -6.52304609,  -6.46292585,  -6.40280561,\n",
       "        -6.34268537,  -6.28256513,  -6.22244489,  -6.16232465,\n",
       "        -6.10220441,  -6.04208417,  -5.98196393,  -5.92184369,\n",
       "        -5.86172345,  -5.80160321,  -5.74148297,  -5.68136273,\n",
       "        -5.62124248,  -5.56112224,  -5.501002  ,  -5.44088176,\n",
       "        -5.38076152,  -5.32064128,  -5.26052104,  -5.2004008 ,\n",
       "        -5.14028056,  -5.08016032,  -5.02004008,  -4.95991984,\n",
       "        -4.8997996 ,  -4.83967936,  -4.77955912,  -4.71943888,\n",
       "        -4.65931864,  -4.5991984 ,  -4.53907816,  -4.47895792,\n",
       "        -4.41883768,  -4.35871743,  -4.29859719,  -4.23847695,\n",
       "        -4.17835671,  -4.11823647,  -4.05811623,  -3.99799599,\n",
       "        -3.93787575,  -3.87775551,  -3.81763527,  -3.75751503,\n",
       "        -3.69739479,  -3.63727455,  -3.57715431,  -3.51703407,\n",
       "        -3.45691383,  -3.39679359,  -3.33667335,  -3.27655311,\n",
       "        -3.21643287,  -3.15631263,  -3.09619238,  -3.03607214,\n",
       "        -2.9759519 ,  -2.91583166,  -2.85571142,  -2.79559118,\n",
       "        -2.73547094,  -2.6753507 ,  -2.61523046,  -2.55511022,\n",
       "        -2.49498998,  -2.43486974,  -2.3747495 ,  -2.31462926,\n",
       "        -2.25450902,  -2.19438878,  -2.13426854,  -2.0741483 ,\n",
       "        -2.01402806,  -1.95390782,  -1.89378758,  -1.83366733,\n",
       "        -1.77354709,  -1.71342685,  -1.65330661,  -1.59318637,\n",
       "        -1.53306613,  -1.47294589,  -1.41282565,  -1.35270541,\n",
       "        -1.29258517,  -1.23246493,  -1.17234469,  -1.11222445,\n",
       "        -1.05210421,  -0.99198397,  -0.93186373,  -0.87174349,\n",
       "        -0.81162325,  -0.75150301,  -0.69138277,  -0.63126253,\n",
       "        -0.57114228,  -0.51102204,  -0.4509018 ,  -0.39078156,\n",
       "        -0.33066132,  -0.27054108,  -0.21042084,  -0.1503006 ,\n",
       "        -0.09018036,  -0.03006012,   0.03006012,   0.09018036,\n",
       "         0.1503006 ,   0.21042084,   0.27054108,   0.33066132,\n",
       "         0.39078156,   0.4509018 ,   0.51102204,   0.57114228,\n",
       "         0.63126253,   0.69138277,   0.75150301,   0.81162325,\n",
       "         0.87174349,   0.93186373,   0.99198397,   1.05210421,\n",
       "         1.11222445,   1.17234469,   1.23246493,   1.29258517,\n",
       "         1.35270541,   1.41282565,   1.47294589,   1.53306613,\n",
       "         1.59318637,   1.65330661,   1.71342685,   1.77354709,\n",
       "         1.83366733,   1.89378758,   1.95390782,   2.01402806,\n",
       "         2.0741483 ,   2.13426854,   2.19438878,   2.25450902,\n",
       "         2.31462926,   2.3747495 ,   2.43486974,   2.49498998,\n",
       "         2.55511022,   2.61523046,   2.6753507 ,   2.73547094,\n",
       "         2.79559118,   2.85571142,   2.91583166,   2.9759519 ,\n",
       "         3.03607214,   3.09619238,   3.15631263,   3.21643287,\n",
       "         3.27655311,   3.33667335,   3.39679359,   3.45691383,\n",
       "         3.51703407,   3.57715431,   3.63727455,   3.69739479,\n",
       "         3.75751503,   3.81763527,   3.87775551,   3.93787575,\n",
       "         3.99799599,   4.05811623,   4.11823647,   4.17835671,\n",
       "         4.23847695,   4.29859719,   4.35871743,   4.41883768,\n",
       "         4.47895792,   4.53907816,   4.5991984 ,   4.65931864,\n",
       "         4.71943888,   4.77955912,   4.83967936,   4.8997996 ,\n",
       "         4.95991984,   5.02004008,   5.08016032,   5.14028056,\n",
       "         5.2004008 ,   5.26052104,   5.32064128,   5.38076152,\n",
       "         5.44088176,   5.501002  ,   5.56112224,   5.62124248,\n",
       "         5.68136273,   5.74148297,   5.80160321,   5.86172345,\n",
       "         5.92184369,   5.98196393,   6.04208417,   6.10220441,\n",
       "         6.16232465,   6.22244489,   6.28256513,   6.34268537,\n",
       "         6.40280561,   6.46292585,   6.52304609,   6.58316633,\n",
       "         6.64328657,   6.70340681,   6.76352705,   6.82364729,\n",
       "         6.88376754,   6.94388778,   7.00400802,   7.06412826,\n",
       "         7.1242485 ,   7.18436874,   7.24448898,   7.30460922,\n",
       "         7.36472946,   7.4248497 ,   7.48496994,   7.54509018,\n",
       "         7.60521042,   7.66533066,   7.7254509 ,   7.78557114,\n",
       "         7.84569138,   7.90581162,   7.96593186,   8.0260521 ,\n",
       "         8.08617234,   8.14629259,   8.20641283,   8.26653307,\n",
       "         8.32665331,   8.38677355,   8.44689379,   8.50701403,\n",
       "         8.56713427,   8.62725451,   8.68737475,   8.74749499,\n",
       "         8.80761523,   8.86773547,   8.92785571,   8.98797595,\n",
       "         9.04809619,   9.10821643,   9.16833667,   9.22845691,\n",
       "         9.28857715,   9.34869739,   9.40881764,   9.46893788,\n",
       "         9.52905812,   9.58917836,   9.6492986 ,   9.70941884,\n",
       "         9.76953908,   9.82965932,   9.88977956,   9.9498998 ,\n",
       "        10.01002004,  10.07014028,  10.13026052,  10.19038076,\n",
       "        10.250501  ,  10.31062124,  10.37074148,  10.43086172,\n",
       "        10.49098196,  10.5511022 ,  10.61122244,  10.67134269,\n",
       "        10.73146293,  10.79158317,  10.85170341,  10.91182365,\n",
       "        10.97194389,  11.03206413,  11.09218437,  11.15230461,\n",
       "        11.21242485,  11.27254509,  11.33266533,  11.39278557,\n",
       "        11.45290581,  11.51302605,  11.57314629,  11.63326653,\n",
       "        11.69338677,  11.75350701,  11.81362725,  11.87374749,\n",
       "        11.93386774,  11.99398798,  12.05410822,  12.11422846,\n",
       "        12.1743487 ,  12.23446894,  12.29458918,  12.35470942,\n",
       "        12.41482966,  12.4749499 ,  12.53507014,  12.59519038,\n",
       "        12.65531062,  12.71543086,  12.7755511 ,  12.83567134,\n",
       "        12.89579158,  12.95591182,  13.01603206,  13.0761523 ,\n",
       "        13.13627255,  13.19639279,  13.25651303,  13.31663327,\n",
       "        13.37675351,  13.43687375,  13.49699399,  13.55711423,\n",
       "        13.61723447,  13.67735471,  13.73747495,  13.79759519,\n",
       "        13.85771543,  13.91783567,  13.97795591,  14.03807615,\n",
       "        14.09819639,  14.15831663,  14.21843687,  14.27855711,\n",
       "        14.33867735,  14.3987976 ,  14.45891784,  14.51903808,\n",
       "        14.57915832,  14.63927856,  14.6993988 ,  14.75951904,\n",
       "        14.81963928,  14.87975952,  14.93987976,  15.        ])"
      ]
     },
     "execution_count": 6,
     "metadata": {},
     "output_type": "execute_result"
    }
   ],
   "source": [
    "xvalues"
   ]
  },
  {
   "cell_type": "code",
   "execution_count": 7,
   "metadata": {},
   "outputs": [
    {
     "data": {
      "text/plain": [
       "[<matplotlib.lines.Line2D at 0x1e24acd1308>]"
      ]
     },
     "execution_count": 7,
     "metadata": {},
     "output_type": "execute_result"
    },
    {
     "data": {
      "image/png": "[encoded data removed]",
      "text/plain": [
       "<Figure size 432x288 with 1 Axes>"
      ]
     },
     "metadata": {
      "needs_background": "light"
     },
     "output_type": "display_data"
    }
   ],
   "source": [
    "plt.plot(xvalues, sigmoid(xvalues), color='blue', marker='*')"
   ]
  },
  {
   "cell_type": "markdown",
   "metadata": {},
   "source": [
    "Sigmoid output varies between 0 and 1\n",
    "\n",
    "Sigmoid saturates to output 1 for large Positive inputs and saturates to 0 for large negative inputs"
   ]
  },
  {
   "cell_type": "markdown",
   "metadata": {},
   "source": [
    "Draw Derivative of sigmoid"
   ]
  },
  {
   "cell_type": "markdown",
   "metadata": {},
   "source": [
    "Define derivation function which can calculate derivative of any function"
   ]
  },
  {
   "cell_type": "code",
   "execution_count": 8,
   "metadata": {},
   "outputs": [],
   "source": [
    "def derivative(func,xval,eps=0.000001):\n",
    "    deltaY = func(xval + eps) - func(xval - eps)\n",
    "    deltaX = 2*eps\n",
    "    \n",
    "    derivativeVal = deltaY/deltaX\n",
    "    return derivativeVal"
   ]
  },
  {
   "cell_type": "code",
   "execution_count": 9,
   "metadata": {},
   "outputs": [
    {
     "data": {
      "text/plain": [
       "[<matplotlib.lines.Line2D at 0x1e24dfd1e48>]"
      ]
     },
     "execution_count": 9,
     "metadata": {},
     "output_type": "execute_result"
    },
    {
     "data": {
      "image/png": "[encoded data removed]",
      "text/plain": [
       "<Figure size 432x288 with 1 Axes>"
      ]
     },
     "metadata": {
      "needs_background": "light"
     },
     "output_type": "display_data"
    }
   ],
   "source": [
    "plt.plot(xvalues, sigmoid(xvalues),color='blue',marker='*')\n",
    "plt.plot(xvalues, derivative(sigmoid,xvalues), color='red', marker='o')"
   ]
  },
  {
   "cell_type": "markdown",
   "metadata": {},
   "source": [
    "Gradient of sigmoid is non-zero only for inputs around zero"
   ]
  },
  {
   "cell_type": "markdown",
   "metadata": {},
   "source": [
    "Gradient dies down to zero for large positive and negative Inputs. This is called Vanishing Gradient."
   ]
  },
  {
   "cell_type": "markdown",
   "metadata": {},
   "source": [
    "Tanh - another non-linear function"
   ]
  },
  {
   "cell_type": "code",
   "execution_count": 15,
   "metadata": {},
   "outputs": [
    {
     "data": {
      "text/plain": [
       "[<matplotlib.lines.Line2D at 0x1e24e15be08>]"
      ]
     },
     "execution_count": 15,
     "metadata": {},
     "output_type": "execute_result"
    },
    {
     "data": {
      "image/png": "[encoded data removed]",
      "text/plain": [
       "<Figure size 432x288 with 1 Axes>"
      ]
     },
     "metadata": {
      "needs_background": "light"
     },
     "output_type": "display_data"
    }
   ],
   "source": [
    "plt.plot(xvalues, np.tanh(xvalues),color='blue',marker='*')\n",
    "plt.plot(xvalues, derivative(np.tanh,xvalues), color='red', marker='o')"
   ]
  },
  {
   "cell_type": "markdown",
   "metadata": {},
   "source": [
    "Tanh output varies between -1 and +1, Saturating to +1 for large positive inputs and \n",
    "saturating to -1 for large negative inputs"
   ]
  },
  {
   "cell_type": "markdown",
   "metadata": {},
   "source": [
    "Derivative of the tanh function is present in small range of inputs around 0,\n",
    "\n",
    "otherwise it dies down to zero"
   ]
  },
  {
   "cell_type": "markdown",
   "metadata": {},
   "source": [
    "-------------"
   ]
  },
  {
   "cell_type": "markdown",
   "metadata": {},
   "source": [
    "RELU"
   ]
  },
  {
   "cell_type": "code",
   "execution_count": 14,
   "metadata": {},
   "outputs": [],
   "source": [
    "def relu(x):\n",
    "    return np.maximum(0,x)"
   ]
  },
  {
   "cell_type": "code",
   "execution_count": 16,
   "metadata": {},
   "outputs": [
    {
     "data": {
      "text/plain": [
       "[<matplotlib.lines.Line2D at 0x1e24e1ce7c8>]"
      ]
     },
     "execution_count": 16,
     "metadata": {},
     "output_type": "execute_result"
    },
    {
     "data": {
      "image/png": "[encoded data removed]",
      "text/plain": [
       "<Figure size 432x288 with 1 Axes>"
      ]
     },
     "metadata": {
      "needs_background": "light"
     },
     "output_type": "display_data"
    }
   ],
   "source": [
    "plt.plot(xvalues, relu(xvalues),color='blue',marker='*')\n",
    "plt.plot(xvalues, derivative(relu,xvalues), color='red', marker='o')"
   ]
  },
  {
   "cell_type": "markdown",
   "metadata": {},
   "source": [
    "Relu has linear output on Positive side and no output on negative side\n",
    "\n",
    "Relu derivative is non-zero for all positive inputs (non vanishing)"
   ]
  },
  {
   "cell_type": "code",
   "execution_count": 17,
   "metadata": {},
   "outputs": [],
   "source": [
    "## ALl this are used to train a neuron"
   ]
  },
  {
   "cell_type": "code",
   "execution_count": null,
   "metadata": {},
   "outputs": [],
   "source": []
  }
 ],
 "metadata": {
  "kernelspec": {
   "display_name": "Python 3",
   "language": "python",
   "name": "python3"
  },
  "language_info": {
   "codemirror_mode": {
    "name": "ipython",
    "version": 3
   },
   "file_extension": ".py",
   "mimetype": "text/x-python",
   "name": "python",
   "nbconvert_exporter": "python",
   "pygments_lexer": "ipython3",
   "version": "3.7.4"
  }
 },
 "nbformat": 4,
 "nbformat_minor": 2
}
